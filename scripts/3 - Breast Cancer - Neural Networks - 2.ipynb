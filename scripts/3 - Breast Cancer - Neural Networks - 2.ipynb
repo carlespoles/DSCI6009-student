{
 "cells": [
  {
   "cell_type": "markdown",
   "metadata": {},
   "source": [
    "# Neural Networks (part 2) - Breast Cancer dataset."
   ]
  },
  {
   "cell_type": "code",
   "execution_count": 1,
   "metadata": {},
   "outputs": [],
   "source": [
    "reset -fs"
   ]
  },
  {
   "cell_type": "code",
   "execution_count": 2,
   "metadata": {},
   "outputs": [
    {
     "name": "stderr",
     "output_type": "stream",
     "text": [
      "Using TensorFlow backend.\n"
     ]
    }
   ],
   "source": [
    "from sklearn.datasets import load_breast_cancer\n",
    "from sklearn.neural_network import MLPClassifier\n",
    "from sklearn.preprocessing import StandardScaler\n",
    "from sklearn.model_selection import train_test_split\n",
    "import numpy as np\n",
    "import pandas as pd\n",
    "import keras.models\n",
    "from keras.models import Sequential\n",
    "from keras.layers import Dense\n",
    "import mglearn\n",
    "import matplotlib.pyplot as plt\n",
    "%matplotlib inline"
   ]
  },
  {
   "cell_type": "code",
   "execution_count": 3,
   "metadata": {},
   "outputs": [],
   "source": [
    "cancer_data = load_breast_cancer()"
   ]
  },
  {
   "cell_type": "code",
   "execution_count": 4,
   "metadata": {},
   "outputs": [
    {
     "name": "stdout",
     "output_type": "stream",
     "text": [
      "Breast Cancer Wisconsin (Diagnostic) Database\n",
      "=============================================\n",
      "\n",
      "Notes\n",
      "-----\n",
      "Data Set Characteristics:\n",
      "    :Number of Instances: 569\n",
      "\n",
      "    :Number of Attributes: 30 numeric, predictive attributes and the class\n",
      "\n",
      "    :Attribute Information:\n",
      "        - radius (mean of distances from center to points on the perimeter)\n",
      "        - texture (standard deviation of gray-scale values)\n",
      "        - perimeter\n",
      "        - area\n",
      "        - smoothness (local variation in radius lengths)\n",
      "        - compactness (perimeter^2 / area - 1.0)\n",
      "        - concavity (severity of concave portions of the contour)\n",
      "        - concave points (number of concave portions of the contour)\n",
      "        - symmetry \n",
      "        - fractal dimension (\"coastline approximation\" - 1)\n",
      "\n",
      "        The mean, standard error, and \"worst\" or largest (mean of the three\n",
      "        largest values) of these features were computed for each image,\n",
      "        resulting in 30 features.  For instance, field 3 is Mean Radius, field\n",
      "        13 is Radius SE, field 23 is Worst Radius.\n",
      "\n",
      "        - class:\n",
      "                - WDBC-Malignant\n",
      "                - WDBC-Benign\n",
      "\n",
      "    :Summary Statistics:\n",
      "\n",
      "    ===================================== ====== ======\n",
      "                                           Min    Max\n",
      "    ===================================== ====== ======\n",
      "    radius (mean):                        6.981  28.11\n",
      "    texture (mean):                       9.71   39.28\n",
      "    perimeter (mean):                     43.79  188.5\n",
      "    area (mean):                          143.5  2501.0\n",
      "    smoothness (mean):                    0.053  0.163\n",
      "    compactness (mean):                   0.019  0.345\n",
      "    concavity (mean):                     0.0    0.427\n",
      "    concave points (mean):                0.0    0.201\n",
      "    symmetry (mean):                      0.106  0.304\n",
      "    fractal dimension (mean):             0.05   0.097\n",
      "    radius (standard error):              0.112  2.873\n",
      "    texture (standard error):             0.36   4.885\n",
      "    perimeter (standard error):           0.757  21.98\n",
      "    area (standard error):                6.802  542.2\n",
      "    smoothness (standard error):          0.002  0.031\n",
      "    compactness (standard error):         0.002  0.135\n",
      "    concavity (standard error):           0.0    0.396\n",
      "    concave points (standard error):      0.0    0.053\n",
      "    symmetry (standard error):            0.008  0.079\n",
      "    fractal dimension (standard error):   0.001  0.03\n",
      "    radius (worst):                       7.93   36.04\n",
      "    texture (worst):                      12.02  49.54\n",
      "    perimeter (worst):                    50.41  251.2\n",
      "    area (worst):                         185.2  4254.0\n",
      "    smoothness (worst):                   0.071  0.223\n",
      "    compactness (worst):                  0.027  1.058\n",
      "    concavity (worst):                    0.0    1.252\n",
      "    concave points (worst):               0.0    0.291\n",
      "    symmetry (worst):                     0.156  0.664\n",
      "    fractal dimension (worst):            0.055  0.208\n",
      "    ===================================== ====== ======\n",
      "\n",
      "    :Missing Attribute Values: None\n",
      "\n",
      "    :Class Distribution: 212 - Malignant, 357 - Benign\n",
      "\n",
      "    :Creator:  Dr. William H. Wolberg, W. Nick Street, Olvi L. Mangasarian\n",
      "\n",
      "    :Donor: Nick Street\n",
      "\n",
      "    :Date: November, 1995\n",
      "\n",
      "This is a copy of UCI ML Breast Cancer Wisconsin (Diagnostic) datasets.\n",
      "https://goo.gl/U2Uwz2\n",
      "\n",
      "Features are computed from a digitized image of a fine needle\n",
      "aspirate (FNA) of a breast mass.  They describe\n",
      "characteristics of the cell nuclei present in the image.\n",
      "\n",
      "Separating plane described above was obtained using\n",
      "Multisurface Method-Tree (MSM-T) [K. P. Bennett, \"Decision Tree\n",
      "Construction Via Linear Programming.\" Proceedings of the 4th\n",
      "Midwest Artificial Intelligence and Cognitive Science Society,\n",
      "pp. 97-101, 1992], a classification method which uses linear\n",
      "programming to construct a decision tree.  Relevant features\n",
      "were selected using an exhaustive search in the space of 1-4\n",
      "features and 1-3 separating planes.\n",
      "\n",
      "The actual linear program used to obtain the separating plane\n",
      "in the 3-dimensional space is that described in:\n",
      "[K. P. Bennett and O. L. Mangasarian: \"Robust Linear\n",
      "Programming Discrimination of Two Linearly Inseparable Sets\",\n",
      "Optimization Methods and Software 1, 1992, 23-34].\n",
      "\n",
      "This database is also available through the UW CS ftp server:\n",
      "\n",
      "ftp ftp.cs.wisc.edu\n",
      "cd math-prog/cpo-dataset/machine-learn/WDBC/\n",
      "\n",
      "References\n",
      "----------\n",
      "   - W.N. Street, W.H. Wolberg and O.L. Mangasarian. Nuclear feature extraction \n",
      "     for breast tumor diagnosis. IS&T/SPIE 1993 International Symposium on \n",
      "     Electronic Imaging: Science and Technology, volume 1905, pages 861-870,\n",
      "     San Jose, CA, 1993.\n",
      "   - O.L. Mangasarian, W.N. Street and W.H. Wolberg. Breast cancer diagnosis and \n",
      "     prognosis via linear programming. Operations Research, 43(4), pages 570-577, \n",
      "     July-August 1995.\n",
      "   - W.H. Wolberg, W.N. Street, and O.L. Mangasarian. Machine learning techniques\n",
      "     to diagnose breast cancer from fine-needle aspirates. Cancer Letters 77 (1994) \n",
      "     163-171.\n",
      "\n"
     ]
    }
   ],
   "source": [
    "print(cancer_data.DESCR)"
   ]
  },
  {
   "cell_type": "code",
   "execution_count": 5,
   "metadata": {},
   "outputs": [
    {
     "name": "stdout",
     "output_type": "stream",
     "text": [
      "['mean radius' 'mean texture' 'mean perimeter' 'mean area'\n",
      " 'mean smoothness' 'mean compactness' 'mean concavity'\n",
      " 'mean concave points' 'mean symmetry' 'mean fractal dimension'\n",
      " 'radius error' 'texture error' 'perimeter error' 'area error'\n",
      " 'smoothness error' 'compactness error' 'concavity error'\n",
      " 'concave points error' 'symmetry error' 'fractal dimension error'\n",
      " 'worst radius' 'worst texture' 'worst perimeter' 'worst area'\n",
      " 'worst smoothness' 'worst compactness' 'worst concavity'\n",
      " 'worst concave points' 'worst symmetry' 'worst fractal dimension']\n"
     ]
    }
   ],
   "source": [
    "# Features.\n",
    "print(cancer_data.feature_names)"
   ]
  },
  {
   "cell_type": "code",
   "execution_count": 6,
   "metadata": {},
   "outputs": [
    {
     "name": "stdout",
     "output_type": "stream",
     "text": [
      "['malignant' 'benign']\n"
     ]
    }
   ],
   "source": [
    "# Labels. Target variable.\n",
    "print(cancer_data.target_names)"
   ]
  },
  {
   "cell_type": "code",
   "execution_count": 7,
   "metadata": {},
   "outputs": [
    {
     "data": {
      "text/plain": [
       "numpy.ndarray"
      ]
     },
     "execution_count": 7,
     "metadata": {},
     "output_type": "execute_result"
    }
   ],
   "source": [
    "# What is the data type?\n",
    "type(cancer_data.data)"
   ]
  },
  {
   "cell_type": "code",
   "execution_count": 8,
   "metadata": {},
   "outputs": [
    {
     "data": {
      "text/plain": [
       "(569, 30)"
      ]
     },
     "execution_count": 8,
     "metadata": {},
     "output_type": "execute_result"
    }
   ],
   "source": [
    "# How many rows and columns?\n",
    "cancer_data.data.shape"
   ]
  },
  {
   "cell_type": "code",
   "execution_count": 9,
   "metadata": {},
   "outputs": [],
   "source": [
    "# Building a model.\n",
    "X_train, X_test, y_train, y_test = train_test_split(cancer_data.data, cancer_data.target, stratify=cancer_data.target, random_state = 0)"
   ]
  },
  {
   "cell_type": "code",
   "execution_count": 10,
   "metadata": {},
   "outputs": [],
   "source": [
    "model = Sequential()"
   ]
  },
  {
   "cell_type": "code",
   "execution_count": 11,
   "metadata": {},
   "outputs": [],
   "source": [
    "model.add(Dense(10, input_dim=30, activation='relu'))"
   ]
  },
  {
   "cell_type": "code",
   "execution_count": 12,
   "metadata": {},
   "outputs": [],
   "source": [
    "model.add(Dense(6, activation='relu'))"
   ]
  },
  {
   "cell_type": "code",
   "execution_count": 13,
   "metadata": {},
   "outputs": [],
   "source": [
    "model.add(Dense(1, activation='sigmoid'))"
   ]
  },
  {
   "cell_type": "code",
   "execution_count": 14,
   "metadata": {},
   "outputs": [],
   "source": [
    "model.compile(loss='mean_squared_error', optimizer='adam', metrics=['accuracy'])"
   ]
  },
  {
   "cell_type": "code",
   "execution_count": 15,
   "metadata": {},
   "outputs": [
    {
     "name": "stdout",
     "output_type": "stream",
     "text": [
      "Train on 298 samples, validate on 128 samples\n",
      "Epoch 1/100\n",
      "298/298 [==============================] - 0s 641us/step - loss: 0.6376 - acc: 0.3624 - val_loss: 0.6016 - val_acc: 0.3984\n",
      "Epoch 2/100\n",
      "298/298 [==============================] - 0s 55us/step - loss: 0.6376 - acc: 0.3624 - val_loss: 0.6016 - val_acc: 0.3984\n",
      "Epoch 3/100\n",
      "298/298 [==============================] - 0s 67us/step - loss: 0.6376 - acc: 0.3624 - val_loss: 0.6016 - val_acc: 0.3984\n",
      "Epoch 4/100\n",
      "298/298 [==============================] - 0s 62us/step - loss: 0.6376 - acc: 0.3624 - val_loss: 0.6016 - val_acc: 0.3984\n",
      "Epoch 5/100\n",
      "298/298 [==============================] - 0s 67us/step - loss: 0.6376 - acc: 0.3624 - val_loss: 0.6016 - val_acc: 0.3984\n",
      "Epoch 6/100\n",
      "298/298 [==============================] - 0s 57us/step - loss: 0.6376 - acc: 0.3624 - val_loss: 0.6016 - val_acc: 0.3984\n",
      "Epoch 7/100\n",
      "298/298 [==============================] - 0s 55us/step - loss: 0.6376 - acc: 0.3624 - val_loss: 0.6016 - val_acc: 0.3984\n",
      "Epoch 8/100\n",
      "298/298 [==============================] - 0s 50us/step - loss: 0.6376 - acc: 0.3624 - val_loss: 0.6016 - val_acc: 0.3984\n",
      "Epoch 9/100\n",
      "298/298 [==============================] - 0s 49us/step - loss: 0.6376 - acc: 0.3624 - val_loss: 0.6016 - val_acc: 0.3984\n",
      "Epoch 10/100\n",
      "298/298 [==============================] - 0s 49us/step - loss: 0.6376 - acc: 0.3624 - val_loss: 0.6016 - val_acc: 0.3984\n",
      "Epoch 11/100\n",
      "298/298 [==============================] - 0s 49us/step - loss: 0.6376 - acc: 0.3624 - val_loss: 0.6016 - val_acc: 0.3984\n",
      "Epoch 12/100\n",
      "298/298 [==============================] - 0s 48us/step - loss: 0.6376 - acc: 0.3624 - val_loss: 0.6016 - val_acc: 0.3984\n",
      "Epoch 13/100\n",
      "298/298 [==============================] - 0s 52us/step - loss: 0.6376 - acc: 0.3624 - val_loss: 0.6016 - val_acc: 0.3984\n",
      "Epoch 14/100\n",
      "298/298 [==============================] - 0s 50us/step - loss: 0.6376 - acc: 0.3624 - val_loss: 0.6016 - val_acc: 0.3984\n",
      "Epoch 15/100\n",
      "298/298 [==============================] - 0s 69us/step - loss: 0.6376 - acc: 0.3624 - val_loss: 0.6016 - val_acc: 0.3984\n",
      "Epoch 16/100\n",
      "298/298 [==============================] - 0s 70us/step - loss: 0.6376 - acc: 0.3624 - val_loss: 0.6016 - val_acc: 0.3984\n",
      "Epoch 17/100\n",
      "298/298 [==============================] - 0s 68us/step - loss: 0.6376 - acc: 0.3624 - val_loss: 0.6016 - val_acc: 0.3984\n",
      "Epoch 18/100\n",
      "298/298 [==============================] - 0s 77us/step - loss: 0.6376 - acc: 0.3624 - val_loss: 0.6016 - val_acc: 0.3984\n",
      "Epoch 19/100\n",
      "298/298 [==============================] - 0s 86us/step - loss: 0.6376 - acc: 0.3624 - val_loss: 0.6016 - val_acc: 0.3984\n",
      "Epoch 20/100\n",
      "298/298 [==============================] - 0s 77us/step - loss: 0.6376 - acc: 0.3624 - val_loss: 0.6016 - val_acc: 0.3984\n",
      "Epoch 21/100\n",
      "298/298 [==============================] - 0s 58us/step - loss: 0.6376 - acc: 0.3624 - val_loss: 0.6016 - val_acc: 0.3984\n",
      "Epoch 22/100\n",
      "298/298 [==============================] - 0s 57us/step - loss: 0.6376 - acc: 0.3624 - val_loss: 0.6016 - val_acc: 0.3984\n",
      "Epoch 23/100\n",
      "298/298 [==============================] - 0s 56us/step - loss: 0.6376 - acc: 0.3624 - val_loss: 0.6016 - val_acc: 0.3984\n",
      "Epoch 24/100\n",
      "298/298 [==============================] - 0s 61us/step - loss: 0.6376 - acc: 0.3624 - val_loss: 0.6016 - val_acc: 0.3984\n",
      "Epoch 25/100\n",
      "298/298 [==============================] - 0s 59us/step - loss: 0.6376 - acc: 0.3624 - val_loss: 0.6016 - val_acc: 0.3984\n",
      "Epoch 26/100\n",
      "298/298 [==============================] - 0s 54us/step - loss: 0.6376 - acc: 0.3624 - val_loss: 0.6016 - val_acc: 0.3984\n",
      "Epoch 27/100\n",
      "298/298 [==============================] - 0s 51us/step - loss: 0.6376 - acc: 0.3624 - val_loss: 0.6016 - val_acc: 0.3984\n",
      "Epoch 28/100\n",
      "298/298 [==============================] - 0s 49us/step - loss: 0.6376 - acc: 0.3624 - val_loss: 0.6016 - val_acc: 0.3984\n",
      "Epoch 29/100\n",
      "298/298 [==============================] - 0s 48us/step - loss: 0.6376 - acc: 0.3624 - val_loss: 0.6016 - val_acc: 0.3984\n",
      "Epoch 30/100\n",
      "298/298 [==============================] - 0s 47us/step - loss: 0.6376 - acc: 0.3624 - val_loss: 0.6016 - val_acc: 0.3984\n",
      "Epoch 31/100\n",
      "298/298 [==============================] - 0s 48us/step - loss: 0.6376 - acc: 0.3624 - val_loss: 0.6016 - val_acc: 0.3984\n",
      "Epoch 32/100\n",
      "298/298 [==============================] - 0s 49us/step - loss: 0.6376 - acc: 0.3624 - val_loss: 0.6016 - val_acc: 0.3984\n",
      "Epoch 33/100\n",
      "298/298 [==============================] - 0s 50us/step - loss: 0.6376 - acc: 0.3624 - val_loss: 0.6016 - val_acc: 0.3984\n",
      "Epoch 34/100\n",
      "298/298 [==============================] - 0s 49us/step - loss: 0.6376 - acc: 0.3624 - val_loss: 0.6016 - val_acc: 0.3984\n",
      "Epoch 35/100\n",
      "298/298 [==============================] - 0s 48us/step - loss: 0.6376 - acc: 0.3624 - val_loss: 0.6016 - val_acc: 0.3984\n",
      "Epoch 36/100\n",
      "298/298 [==============================] - 0s 47us/step - loss: 0.6376 - acc: 0.3624 - val_loss: 0.6016 - val_acc: 0.3984\n",
      "Epoch 37/100\n",
      "298/298 [==============================] - 0s 51us/step - loss: 0.6376 - acc: 0.3624 - val_loss: 0.6016 - val_acc: 0.3984\n",
      "Epoch 38/100\n",
      "298/298 [==============================] - 0s 70us/step - loss: 0.6376 - acc: 0.3624 - val_loss: 0.6016 - val_acc: 0.3984\n",
      "Epoch 39/100\n",
      "298/298 [==============================] - 0s 63us/step - loss: 0.6376 - acc: 0.3624 - val_loss: 0.6016 - val_acc: 0.3984\n",
      "Epoch 40/100\n",
      "298/298 [==============================] - 0s 53us/step - loss: 0.6376 - acc: 0.3624 - val_loss: 0.6016 - val_acc: 0.3984\n",
      "Epoch 41/100\n",
      "298/298 [==============================] - 0s 52us/step - loss: 0.6376 - acc: 0.3624 - val_loss: 0.6016 - val_acc: 0.3984\n",
      "Epoch 42/100\n",
      "298/298 [==============================] - 0s 48us/step - loss: 0.6376 - acc: 0.3624 - val_loss: 0.6016 - val_acc: 0.3984\n",
      "Epoch 43/100\n",
      "298/298 [==============================] - 0s 48us/step - loss: 0.6376 - acc: 0.3624 - val_loss: 0.6016 - val_acc: 0.3984\n",
      "Epoch 44/100\n",
      "298/298 [==============================] - 0s 51us/step - loss: 0.6376 - acc: 0.3624 - val_loss: 0.6016 - val_acc: 0.3984\n",
      "Epoch 45/100\n",
      "298/298 [==============================] - 0s 49us/step - loss: 0.6376 - acc: 0.3624 - val_loss: 0.6016 - val_acc: 0.3984\n",
      "Epoch 46/100\n",
      "298/298 [==============================] - 0s 50us/step - loss: 0.6376 - acc: 0.3624 - val_loss: 0.6016 - val_acc: 0.3984\n",
      "Epoch 47/100\n",
      "298/298 [==============================] - 0s 49us/step - loss: 0.6376 - acc: 0.3624 - val_loss: 0.6016 - val_acc: 0.3984\n",
      "Epoch 48/100\n",
      "298/298 [==============================] - 0s 52us/step - loss: 0.6376 - acc: 0.3624 - val_loss: 0.6016 - val_acc: 0.3984\n",
      "Epoch 49/100\n",
      "298/298 [==============================] - 0s 73us/step - loss: 0.6376 - acc: 0.3624 - val_loss: 0.6016 - val_acc: 0.3984\n",
      "Epoch 50/100\n",
      "298/298 [==============================] - 0s 62us/step - loss: 0.6376 - acc: 0.3624 - val_loss: 0.6016 - val_acc: 0.3984\n",
      "Epoch 51/100\n",
      "298/298 [==============================] - 0s 68us/step - loss: 0.6376 - acc: 0.3624 - val_loss: 0.6016 - val_acc: 0.3984\n",
      "Epoch 52/100\n",
      "298/298 [==============================] - 0s 63us/step - loss: 0.6376 - acc: 0.3624 - val_loss: 0.6016 - val_acc: 0.3984\n",
      "Epoch 53/100\n",
      "298/298 [==============================] - 0s 55us/step - loss: 0.6376 - acc: 0.3624 - val_loss: 0.6016 - val_acc: 0.3984\n",
      "Epoch 54/100\n",
      "298/298 [==============================] - 0s 55us/step - loss: 0.6376 - acc: 0.3624 - val_loss: 0.6016 - val_acc: 0.3984\n",
      "Epoch 55/100\n",
      "298/298 [==============================] - 0s 59us/step - loss: 0.6376 - acc: 0.3624 - val_loss: 0.6016 - val_acc: 0.3984\n",
      "Epoch 56/100\n",
      "298/298 [==============================] - 0s 48us/step - loss: 0.6376 - acc: 0.3624 - val_loss: 0.6016 - val_acc: 0.3984\n",
      "Epoch 57/100\n",
      "298/298 [==============================] - 0s 51us/step - loss: 0.6376 - acc: 0.3624 - val_loss: 0.6016 - val_acc: 0.3984\n",
      "Epoch 58/100\n",
      "298/298 [==============================] - 0s 50us/step - loss: 0.6376 - acc: 0.3624 - val_loss: 0.6016 - val_acc: 0.3984\n",
      "Epoch 59/100\n",
      "298/298 [==============================] - 0s 48us/step - loss: 0.6376 - acc: 0.3624 - val_loss: 0.6016 - val_acc: 0.3984\n",
      "Epoch 60/100\n",
      "298/298 [==============================] - 0s 48us/step - loss: 0.6376 - acc: 0.3624 - val_loss: 0.6016 - val_acc: 0.3984\n",
      "Epoch 61/100\n"
     ]
    },
    {
     "name": "stdout",
     "output_type": "stream",
     "text": [
      "298/298 [==============================] - 0s 56us/step - loss: 0.6376 - acc: 0.3624 - val_loss: 0.6016 - val_acc: 0.3984\n",
      "Epoch 62/100\n",
      "298/298 [==============================] - 0s 65us/step - loss: 0.6376 - acc: 0.3624 - val_loss: 0.6016 - val_acc: 0.3984\n",
      "Epoch 63/100\n",
      "298/298 [==============================] - 0s 51us/step - loss: 0.6376 - acc: 0.3624 - val_loss: 0.6016 - val_acc: 0.3984\n",
      "Epoch 64/100\n",
      "298/298 [==============================] - 0s 51us/step - loss: 0.6376 - acc: 0.3624 - val_loss: 0.6016 - val_acc: 0.3984\n",
      "Epoch 65/100\n",
      "298/298 [==============================] - 0s 47us/step - loss: 0.6376 - acc: 0.3624 - val_loss: 0.6016 - val_acc: 0.3984\n",
      "Epoch 66/100\n",
      "298/298 [==============================] - 0s 47us/step - loss: 0.6376 - acc: 0.3624 - val_loss: 0.6016 - val_acc: 0.3984\n",
      "Epoch 67/100\n",
      "298/298 [==============================] - 0s 48us/step - loss: 0.6376 - acc: 0.3624 - val_loss: 0.6016 - val_acc: 0.3984\n",
      "Epoch 68/100\n",
      "298/298 [==============================] - 0s 47us/step - loss: 0.6376 - acc: 0.3624 - val_loss: 0.6016 - val_acc: 0.3984\n",
      "Epoch 69/100\n",
      "298/298 [==============================] - 0s 49us/step - loss: 0.6376 - acc: 0.3624 - val_loss: 0.6016 - val_acc: 0.3984\n",
      "Epoch 70/100\n",
      "298/298 [==============================] - 0s 49us/step - loss: 0.6376 - acc: 0.3624 - val_loss: 0.6016 - val_acc: 0.3984\n",
      "Epoch 71/100\n",
      "298/298 [==============================] - 0s 49us/step - loss: 0.6376 - acc: 0.3624 - val_loss: 0.6016 - val_acc: 0.3984\n",
      "Epoch 72/100\n",
      "298/298 [==============================] - 0s 49us/step - loss: 0.6376 - acc: 0.3624 - val_loss: 0.6016 - val_acc: 0.3984\n",
      "Epoch 73/100\n",
      "298/298 [==============================] - 0s 54us/step - loss: 0.6376 - acc: 0.3624 - val_loss: 0.6016 - val_acc: 0.3984\n",
      "Epoch 74/100\n",
      "298/298 [==============================] - 0s 54us/step - loss: 0.6376 - acc: 0.3624 - val_loss: 0.6016 - val_acc: 0.3984\n",
      "Epoch 75/100\n",
      "298/298 [==============================] - 0s 50us/step - loss: 0.6376 - acc: 0.3624 - val_loss: 0.6016 - val_acc: 0.3984\n",
      "Epoch 76/100\n",
      "298/298 [==============================] - 0s 51us/step - loss: 0.6376 - acc: 0.3624 - val_loss: 0.6016 - val_acc: 0.3984\n",
      "Epoch 77/100\n",
      "298/298 [==============================] - 0s 54us/step - loss: 0.6376 - acc: 0.3624 - val_loss: 0.6016 - val_acc: 0.3984\n",
      "Epoch 78/100\n",
      "298/298 [==============================] - 0s 53us/step - loss: 0.6376 - acc: 0.3624 - val_loss: 0.6016 - val_acc: 0.3984\n",
      "Epoch 79/100\n",
      "298/298 [==============================] - 0s 54us/step - loss: 0.6376 - acc: 0.3624 - val_loss: 0.6016 - val_acc: 0.3984\n",
      "Epoch 80/100\n",
      "298/298 [==============================] - 0s 60us/step - loss: 0.6376 - acc: 0.3624 - val_loss: 0.6016 - val_acc: 0.3984\n",
      "Epoch 81/100\n",
      "298/298 [==============================] - 0s 59us/step - loss: 0.6376 - acc: 0.3624 - val_loss: 0.6016 - val_acc: 0.3984\n",
      "Epoch 82/100\n",
      "298/298 [==============================] - 0s 69us/step - loss: 0.6376 - acc: 0.3624 - val_loss: 0.6016 - val_acc: 0.3984\n",
      "Epoch 83/100\n",
      "298/298 [==============================] - 0s 68us/step - loss: 0.6376 - acc: 0.3624 - val_loss: 0.6016 - val_acc: 0.3984\n",
      "Epoch 84/100\n",
      "298/298 [==============================] - 0s 63us/step - loss: 0.6376 - acc: 0.3624 - val_loss: 0.6016 - val_acc: 0.3984\n",
      "Epoch 85/100\n",
      "298/298 [==============================] - 0s 63us/step - loss: 0.6376 - acc: 0.3624 - val_loss: 0.6016 - val_acc: 0.3984\n",
      "Epoch 86/100\n",
      "298/298 [==============================] - 0s 56us/step - loss: 0.6376 - acc: 0.3624 - val_loss: 0.6016 - val_acc: 0.3984\n",
      "Epoch 87/100\n",
      "298/298 [==============================] - 0s 59us/step - loss: 0.6376 - acc: 0.3624 - val_loss: 0.6016 - val_acc: 0.3984\n",
      "Epoch 88/100\n",
      "298/298 [==============================] - 0s 57us/step - loss: 0.6376 - acc: 0.3624 - val_loss: 0.6016 - val_acc: 0.3984\n",
      "Epoch 89/100\n",
      "298/298 [==============================] - 0s 64us/step - loss: 0.6376 - acc: 0.3624 - val_loss: 0.6016 - val_acc: 0.3984\n",
      "Epoch 90/100\n",
      "298/298 [==============================] - 0s 55us/step - loss: 0.6376 - acc: 0.3624 - val_loss: 0.6016 - val_acc: 0.3984\n",
      "Epoch 91/100\n",
      "298/298 [==============================] - 0s 60us/step - loss: 0.6376 - acc: 0.3624 - val_loss: 0.6016 - val_acc: 0.3984\n",
      "Epoch 92/100\n",
      "298/298 [==============================] - 0s 60us/step - loss: 0.6376 - acc: 0.3624 - val_loss: 0.6016 - val_acc: 0.3984\n",
      "Epoch 93/100\n",
      "298/298 [==============================] - 0s 62us/step - loss: 0.6376 - acc: 0.3624 - val_loss: 0.6016 - val_acc: 0.3984\n",
      "Epoch 94/100\n",
      "298/298 [==============================] - 0s 56us/step - loss: 0.6376 - acc: 0.3624 - val_loss: 0.6016 - val_acc: 0.3984\n",
      "Epoch 95/100\n",
      "298/298 [==============================] - 0s 55us/step - loss: 0.6376 - acc: 0.3624 - val_loss: 0.6016 - val_acc: 0.3984\n",
      "Epoch 96/100\n",
      "298/298 [==============================] - 0s 55us/step - loss: 0.6376 - acc: 0.3624 - val_loss: 0.6016 - val_acc: 0.3984\n",
      "Epoch 97/100\n",
      "298/298 [==============================] - 0s 53us/step - loss: 0.6376 - acc: 0.3624 - val_loss: 0.6016 - val_acc: 0.3984\n",
      "Epoch 98/100\n",
      "298/298 [==============================] - 0s 55us/step - loss: 0.6376 - acc: 0.3624 - val_loss: 0.6016 - val_acc: 0.3984\n",
      "Epoch 99/100\n",
      "298/298 [==============================] - 0s 53us/step - loss: 0.6376 - acc: 0.3624 - val_loss: 0.6016 - val_acc: 0.3984\n",
      "Epoch 100/100\n",
      "298/298 [==============================] - 0s 54us/step - loss: 0.6376 - acc: 0.3624 - val_loss: 0.6016 - val_acc: 0.3984\n"
     ]
    },
    {
     "data": {
      "text/plain": [
       "<keras.callbacks.History at 0x123b42e10>"
      ]
     },
     "execution_count": 15,
     "metadata": {},
     "output_type": "execute_result"
    }
   ],
   "source": [
    "model.fit(X_train, y_train, epochs=100, batch_size=30, validation_split=0.3)"
   ]
  },
  {
   "cell_type": "code",
   "execution_count": 16,
   "metadata": {},
   "outputs": [
    {
     "name": "stdout",
     "output_type": "stream",
     "text": [
      "_________________________________________________________________\n",
      "Layer (type)                 Output Shape              Param #   \n",
      "=================================================================\n",
      "dense_1 (Dense)              (None, 10)                310       \n",
      "_________________________________________________________________\n",
      "dense_2 (Dense)              (None, 6)                 66        \n",
      "_________________________________________________________________\n",
      "dense_3 (Dense)              (None, 1)                 7         \n",
      "=================================================================\n",
      "Total params: 383\n",
      "Trainable params: 383\n",
      "Non-trainable params: 0\n",
      "_________________________________________________________________\n"
     ]
    }
   ],
   "source": [
    "model.summary()"
   ]
  },
  {
   "cell_type": "code",
   "execution_count": 17,
   "metadata": {},
   "outputs": [
    {
     "name": "stdout",
     "output_type": "stream",
     "text": [
      "143/143 [==============================] - 0s 55us/step\n"
     ]
    }
   ],
   "source": [
    "score = model.evaluate(X_test, y_test, verbose=1)"
   ]
  },
  {
   "cell_type": "code",
   "execution_count": 18,
   "metadata": {},
   "outputs": [
    {
     "name": "stdout",
     "output_type": "stream",
     "text": [
      "Test loss: 0.6294\n",
      "Test accuracy: 37.06%\n"
     ]
    }
   ],
   "source": [
    "print('Test loss: {:0,.4f}'.format(score[0]))\n",
    "print('Test accuracy: {:.2%}'.format(score[1]))"
   ]
  },
  {
   "cell_type": "markdown",
   "metadata": {},
   "source": [
    "Model is terrible."
   ]
  },
  {
   "cell_type": "code",
   "execution_count": null,
   "metadata": {},
   "outputs": [],
   "source": []
  }
 ],
 "metadata": {
  "anaconda-cloud": {},
  "kernelspec": {
   "display_name": "Python [biopython_env]",
   "language": "python",
   "name": "Python [biopython_env]"
  },
  "language_info": {
   "codemirror_mode": {
    "name": "ipython",
    "version": 3
   },
   "file_extension": ".py",
   "mimetype": "text/x-python",
   "name": "python",
   "nbconvert_exporter": "python",
   "pygments_lexer": "ipython3",
   "version": "3.6.5"
  }
 },
 "nbformat": 4,
 "nbformat_minor": 1
}
