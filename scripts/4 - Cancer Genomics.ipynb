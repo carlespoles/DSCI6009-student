{
 "cells": [
  {
   "cell_type": "markdown",
   "metadata": {},
   "source": [
    "# Cancer Genomics | Manipulating DNA/mRNA."
   ]
  },
  {
   "cell_type": "code",
   "execution_count": 1,
   "metadata": {},
   "outputs": [],
   "source": [
    "reset -fs"
   ]
  },
  {
   "cell_type": "code",
   "execution_count": 2,
   "metadata": {},
   "outputs": [],
   "source": [
    "import Bio"
   ]
  },
  {
   "cell_type": "code",
   "execution_count": 3,
   "metadata": {},
   "outputs": [],
   "source": [
    "DNA1 = \"GCATGCATGCATGCATGCATGCATGCATGCAT\""
   ]
  },
  {
   "cell_type": "code",
   "execution_count": 4,
   "metadata": {},
   "outputs": [
    {
     "name": "stdout",
     "output_type": "stream",
     "text": [
      "Please enter a DNA sequence below:\n",
      "GCATGCATGCATGCATGCATGCATGCATGCAT\n",
      "\n",
      "Your RNA sequence is:\n",
      "GCAUGCAUGCAUGCAUGCAUGCAUGCAUGCAU\n"
     ]
    }
   ],
   "source": [
    "DNA2 = str(input(\"Please enter a DNA sequence below:\\n\"))\n",
    "translate_DNA2 = DNA2.maketrans(\"TCGA\", \"UCGA\")\n",
    "print(\"\\nYour RNA sequence is:\\n\" + DNA2.translate(translate_DNA2))"
   ]
  },
  {
   "cell_type": "markdown",
   "metadata": {},
   "source": [
    "# Hacking Cancer DNA."
   ]
  },
  {
   "cell_type": "code",
   "execution_count": 5,
   "metadata": {},
   "outputs": [],
   "source": [
    "# Set value of each nucleotide to 0.\n",
    "a, g, c, t = 0, 0, 0, 0;"
   ]
  },
  {
   "cell_type": "code",
   "execution_count": 6,
   "metadata": {},
   "outputs": [],
   "source": [
    "with open(\"../Data/CGenomeFiles/seq.txt\", \"r\") as f:\n",
    "    gene = f.read()\n",
    "    for line in gene.lower():\n",
    "        for char in line:\n",
    "            if char == \"a\":\n",
    "                a+=1\n",
    "            if char == \"g\":\n",
    "                g+=1\n",
    "            if char == \"c\":\n",
    "                c+=1\n",
    "            if char == \"t\":\n",
    "                t+=1"
   ]
  },
  {
   "cell_type": "code",
   "execution_count": 7,
   "metadata": {},
   "outputs": [
    {
     "name": "stdout",
     "output_type": "stream",
     "text": [
      "Adenines: 243.00\n",
      "\n",
      "Thynines: 158.00\n",
      "\n",
      "Guanines: 154.00\n",
      "\n",
      "Cytosines: 162.00\n"
     ]
    }
   ],
   "source": [
    "print(\"Adenines: {:,.2f}\".format(a))\n",
    "print(\"\\nThynines: {:,.2f}\".format(t))\n",
    "print(\"\\nGuanines: {:,.2f}\".format(g))\n",
    "print(\"\\nCytosines: {:,.2f}\".format(c))"
   ]
  },
  {
   "cell_type": "code",
   "execution_count": 8,
   "metadata": {},
   "outputs": [],
   "source": [
    "gc_ratio = (g+c)/(g+c+a+t)\n",
    "at_ratio = (a+t)/(g+c+a+t)"
   ]
  },
  {
   "cell_type": "code",
   "execution_count": 9,
   "metadata": {},
   "outputs": [
    {
     "name": "stdout",
     "output_type": "stream",
     "text": [
      "\n",
      "AT ratio: 55.93%\n",
      "\n",
      "GC ratio: 44.07%\n"
     ]
    }
   ],
   "source": [
    "print(\"\\nAT ratio: {:.2%}\".format(at_ratio))\n",
    "print(\"\\nGC ratio: {:.2%}\".format(gc_ratio))"
   ]
  }
 ],
 "metadata": {
  "anaconda-cloud": {},
  "kernelspec": {
   "display_name": "Python [biopython_env]",
   "language": "python",
   "name": "Python [biopython_env]"
  },
  "language_info": {
   "codemirror_mode": {
    "name": "ipython",
    "version": 3
   },
   "file_extension": ".py",
   "mimetype": "text/x-python",
   "name": "python",
   "nbconvert_exporter": "python",
   "pygments_lexer": "ipython3",
   "version": "3.6.5"
  }
 },
 "nbformat": 4,
 "nbformat_minor": 1
}
